{
 "cells": [
  {
   "cell_type": "markdown",
   "metadata": {},
   "source": [
    "# Tarea: Analizar el dataset IRIS"
   ]
  },
  {
   "cell_type": "markdown",
   "metadata": {},
   "source": [
    "<cite>\"Tarea: Analizar el dataset IRIS\" © 2021,2022 by Francisco José Madrid Cuevas @ Universidad de Córdoba.España is licensed under CC BY-NC-SA 4.0. To view a copy of this license, visit [http://creativecommons.org/licenses/by-nc-sa/4.0/](http://creativecommons.org/licenses/by-nc-sa/4.0/).</cite>"
   ]
  },
  {
   "cell_type": "markdown",
   "metadata": {},
   "source": [
    "## Descripción."
   ]
  },
  {
   "cell_type": "markdown",
   "metadata": {},
   "source": [
    "El conjunto de datos \"flor Iris\" (*\"IRIS dataset\"*) es un conjunto de datos multivariante introducido por Ronald Fisher como un ejemplo de análisis discriminante lineal. Este conjunto de datos cuantifica la variación morfológica de la flor Iris de tres especies relacionadas.\n",
    "\n",
    "El conjunto de datos contiene 50 muestras de cada una de tres especies de Iris (Iris setosa, Iris virginica e Iris versicolor). Se midió cuatro rasgos de cada muestra: el largo y ancho del sépalo y pétalo, en centímetros. Basado en la combinación de estos cuatro rasgos, Fisher desarrolló un modelo discriminante lineal para distinguir entre una especie y otra. Para más detalles se recomienda consultar esta [referencia](https://es.wikipedia.org/wiki/Conjunto_de_datos_flor_iris).\n",
    "\n",
    "Se requiere generar una figura donde se muestre un gráfico de puntos para cada par de rasgos medidos asignando un color distinto a cada especie. Además la figura debe incluir un histograma de la distribución para cada rasgo por separado, distinguiendo en el histograma el aporte de cada especie (es decir tendremos un histograma apilado).\n",
    "\n",
    "Ajusta los parámetros para obtener una salida lo más parecedia a lo siguiente:\n",
    "\n",
    "<pre>Dataset:\n",
    "   sepal_length  sepal_width  petal_length  petal_width species\n",
    "0           5.1          3.5           1.4          0.2  setosa\n",
    "1           4.9          3.0           1.4          0.2  setosa\n",
    "2           4.7          3.2           1.3          0.2  setosa\n",
    "3           4.6          3.1           1.5          0.2  setosa\n",
    "4           5.0          3.6           1.4          0.2  setosa\n",
    "\n",
    "Valores mínimos:\n",
    " sepal_length       4.3\n",
    "sepal_width          2\n",
    "petal_length         1\n",
    "petal_width        0.1\n",
    "species         setosa\n",
    "dtype: object\n",
    "\n",
    "Valores máximos:\n",
    " sepal_length          7.9\n",
    "sepal_width           4.4\n",
    "petal_length          6.9\n",
    "petal_width           2.5\n",
    "species         virginica\n",
    "dtype: object\n",
    "\n",
    "Rango valores:\n",
    " sepal_length    3.6\n",
    "sepal_width     2.4\n",
    "petal_length    5.9\n",
    "petal_width     2.4\n",
    "dtype: object\n",
    "\n",
    "Especies:  ['setosa' 'versicolor' 'virginica']</pre>\n",
    "\n",
    "![Resultado esperado](fig/iris_dataset.png)"
   ]
  },
  {
   "cell_type": "markdown",
   "metadata": {},
   "source": [
    "## Código python."
   ]
  },
  {
   "cell_type": "markdown",
   "metadata": {},
   "source": [
    "### Configuración del entorno."
   ]
  },
  {
   "cell_type": "code",
   "execution_count": 4,
   "metadata": {},
   "outputs": [],
   "source": [
    "import pandas as pd\n",
    "import numpy as np\n",
    "import matplotlib as mpl\n",
    "%matplotlib notebook\n",
    "import matplotlib.pyplot as plt"
   ]
  },
  {
   "cell_type": "markdown",
   "metadata": {},
   "source": [
    "### Procesado de los datos."
   ]
  },
  {
   "cell_type": "code",
   "execution_count": 5,
   "metadata": {},
   "outputs": [
    {
     "name": "stdout",
     "output_type": "stream",
     "text": [
      "Dataset:\n",
      "Empty DataFrame\n",
      "Columns: []\n",
      "Index: []\n",
      "\n",
      "Valores mínimos:\n",
      " Series([], dtype: float64)\n",
      "\n",
      "Valores máximos:\n",
      " Series([], dtype: float64)\n",
      "\n",
      "Rango valores:\n",
      " Series([], dtype: float64)\n",
      "\n",
      "Especies:  []\n"
     ]
    },
    {
     "name": "stderr",
     "output_type": "stream",
     "text": [
      "/tmp/ipykernel_5596/1819134175.py:12: FutureWarning: The default dtype for empty Series will be 'object' instead of 'float64' in a future version. Specify a dtype explicitly to silence this warning.\n",
      "  v_min  = pd.Series() #El valor mímimo por cada rasgo.\n",
      "/tmp/ipykernel_5596/1819134175.py:13: FutureWarning: The default dtype for empty Series will be 'object' instead of 'float64' in a future version. Specify a dtype explicitly to silence this warning.\n",
      "  v_max  = pd.Series() #El valor máximo por cada rasgo.\n",
      "/tmp/ipykernel_5596/1819134175.py:14: FutureWarning: The default dtype for empty Series will be 'object' instead of 'float64' in a future version. Specify a dtype explicitly to silence this warning.\n",
      "  v_range= pd.Series() #El ancho de valores de cada rasgo.\n"
     ]
    }
   ],
   "source": [
    "df = pd.DataFrame()\n",
    "#El datset viene como un fichero con nombre 'data/iris.csv'\n",
    "#Pon tu código aquí para cargar el dataset.\n",
    "\n",
    "#\n",
    "\n",
    "print('Dataset:')\n",
    "print(df.head())\n",
    "\n",
    "#Para dibujar los ejes bien, debemos obtener el rango de los valores para cada\n",
    "#rasgo (característica).\n",
    "v_min  = pd.Series() #El valor mímimo por cada rasgo.\n",
    "v_max  = pd.Series() #El valor máximo por cada rasgo.\n",
    "v_range= pd.Series() #El ancho de valores de cada rasgo.\n",
    "\n",
    "#Pon tu código aquí.\n",
    "\n",
    "#\n",
    "\n",
    "print('\\nValores mínimos:\\n', v_min)\n",
    "print('\\nValores máximos:\\n', v_max)\n",
    "print('\\nRango valores:\\n', v_range)\n",
    "\n",
    "species = [] #Nombres de cada especie.\n",
    "#Pon tu código aquí.\n",
    "#Sugerencia: busca valores únicos de la columna 'species'.\n",
    "\n",
    "\n",
    "#\n",
    "print('\\nEspecies: ', species)"
   ]
  },
  {
   "cell_type": "markdown",
   "metadata": {},
   "source": [
    "### Generación de la figura."
   ]
  },
  {
   "cell_type": "code",
   "execution_count": 6,
   "metadata": {},
   "outputs": [],
   "source": [
    "#Pon tu código aquí.\n",
    "#Sugerencia: Como tenemos 4 rasgos, podemos crear un grid de subplots 4x4.\n",
    "#Puedes automatizar la generación de la figura de la forma:\n",
    "#- Si la fila y columna son distintas, dibujar un gráfico de puntos para los ragos fila, columna.\n",
    "#- Si la fila y columna coinciden, dibujar un histograma. Como queremos que se contabilice cada especia\n",
    "#  por separado, hay que extraer una distribución por valor de especie, para obtener tres distribuciones\n",
    "#  y dibujar un histograma \"stacked\".\n",
    "#Para no sobrecargar los ejes, sólo dibujar los valores de los ticks en los subplots extremos.\n",
    "#Para dibujar la leyenda de la figurea, se debe crear de forma manual, \n",
    "#añadiendo un rectangulo relleno con el color de la especie usando matplotlib.patches.Rectangle.\n",
    "\n",
    "\n",
    "#"
   ]
  },
  {
   "cell_type": "code",
   "execution_count": null,
   "metadata": {},
   "outputs": [],
   "source": []
  }
 ],
 "metadata": {
  "kernelspec": {
   "display_name": "Python 3 (ipykernel)",
   "language": "python",
   "name": "python3"
  },
  "language_info": {
   "codemirror_mode": {
    "name": "ipython",
    "version": 3
   },
   "file_extension": ".py",
   "mimetype": "text/x-python",
   "name": "python",
   "nbconvert_exporter": "python",
   "pygments_lexer": "ipython3",
   "version": "3.8.10"
  }
 },
 "nbformat": 4,
 "nbformat_minor": 4
}
