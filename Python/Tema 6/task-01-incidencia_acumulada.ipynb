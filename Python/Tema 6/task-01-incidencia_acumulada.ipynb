{
 "cells": [
  {
   "cell_type": "markdown",
   "metadata": {},
   "source": [
    "# Tarea: Visualizar la incidencia COVID"
   ]
  },
  {
   "cell_type": "markdown",
   "metadata": {},
   "source": [
    "<cite>\"Tarea: Visualizar la incidencia COVID\" © 2021,2022 by Francisco José Madrid Cuevas @ Universidad de Córdoba.España is licensed under CC BY-NC-SA 4.0. To view a copy of this license, visit [http://creativecommons.org/licenses/by-nc-sa/4.0/](http://creativecommons.org/licenses/by-nc-sa/4.0/).</cite>"
   ]
  },
  {
   "cell_type": "markdown",
   "metadata": {},
   "source": [
    "## Descripción."
   ]
  },
  {
   "cell_type": "markdown",
   "metadata": {},
   "source": [
    "A partir de una hoja excel, que aporta datos de incidencia confirmada de casos COVID en la columna 'Confirmados PDIA', se desea visualizar la evalución de dicha incidencia junto con la incidencia acumulada (la media de los últimos 14 días).\n",
    "\n",
    "Ajusta los parámetros para que el resultado se parezca lo más posible a la siguiente figura:\n",
    "<pre>DataFrame:\n",
    "                              Confirmados PDIA  Total confirmados  \\\n",
    "Fecha diagnóstico Territorio                                        \n",
    "2020-02-26        Andalucía                  1                  1   \n",
    "                  Sevilla                    1                  1   \n",
    "2020-02-27        Almería                    1                  1   \n",
    "                  Andalucía                  1                  1   \n",
    "2020-02-28        Andalucía                  6                  6   \n",
    "\n",
    "                              Hospitalizados  UCI  Fallecidos  \n",
    "Fecha diagnóstico Territorio                                   \n",
    "2020-02-26        Andalucía                1    0           0  \n",
    "                  Sevilla                  1    0           0  \n",
    "2020-02-27        Almería                  1    0           0  \n",
    "                  Andalucía                1    0           0  \n",
    "2020-02-28        Andalucía                1    0           0  \n",
    "\n",
    "Confirmados:\n",
    " Fecha diagnóstico\n",
    "2020-02-26       1\n",
    "2020-02-27       1\n",
    "2020-02-28       6\n",
    "2020-02-29       3\n",
    "2020-03-02       1\n",
    "              ... \n",
    "2021-05-02     431\n",
    "2021-05-03     980\n",
    "2021-05-04    1401\n",
    "2021-05-05    1316\n",
    "2021-05-06     268\n",
    "Name: Confirmados PDIA, Length: 434, dtype: int64\n",
    "\n",
    "Incidencia accumulada:\n",
    " Fecha diagnóstico\n",
    "2020-02-26       0.000000\n",
    "2020-02-27       0.000000\n",
    "2020-02-28       0.000000\n",
    "2020-02-29       0.000000\n",
    "2020-03-02       0.000000\n",
    "                 ...     \n",
    "2021-05-02    1367.214286\n",
    "2021-05-03    1330.071429\n",
    "2021-05-04    1291.642857\n",
    "2021-05-05    1256.785714\n",
    "2021-05-06    1160.928571\n",
    "Name: Confirmados PDIA, Length: 434, dtype: float64</pre>\n",
    "\n",
    "![Resultado](fig/incidencia_acumulada.png)"
   ]
  },
  {
   "cell_type": "markdown",
   "metadata": {},
   "source": [
    "## Código python"
   ]
  },
  {
   "cell_type": "markdown",
   "metadata": {},
   "source": [
    "### Configuración del entorno."
   ]
  },
  {
   "cell_type": "code",
   "execution_count": 1,
   "metadata": {},
   "outputs": [],
   "source": [
    "import pandas as pd\n",
    "import numpy as np\n",
    "import matplotlib as mpl\n",
    "%matplotlib notebook\n",
    "import matplotlib.pyplot as plt\n",
    "\n",
    "# Cambia los formaters de ticks para fechas/tiempo de matplotlib\n",
    "# para usar los proporcionados por pandas.\n",
    "pd.plotting.register_matplotlib_converters() "
   ]
  },
  {
   "cell_type": "markdown",
   "metadata": {},
   "source": [
    "### Procesado de los datos."
   ]
  },
  {
   "cell_type": "code",
   "execution_count": 2,
   "metadata": {},
   "outputs": [
    {
     "name": "stdout",
     "output_type": "stream",
     "text": [
      "DataFrame:\n",
      "Empty DataFrame\n",
      "Columns: []\n",
      "Index: []\n",
      "\n",
      "Confirmados:\n",
      " Series([], dtype: float64)\n",
      "\n",
      "Incidencia accumulada:\n",
      " Series([], dtype: float64)\n"
     ]
    },
    {
     "name": "stderr",
     "output_type": "stream",
     "text": [
      "/tmp/ipykernel_5550/1302830180.py:19: FutureWarning: The default dtype for empty Series will be 'object' instead of 'float64' in a future version. Specify a dtype explicitly to silence this warning.\n",
      "  confirmados_andalucia = pd.Series()\n",
      "/tmp/ipykernel_5550/1302830180.py:25: FutureWarning: The default dtype for empty Series will be 'object' instead of 'float64' in a future version. Specify a dtype explicitly to silence this warning.\n",
      "  incidencia_acumulada = pd.Series()\n"
     ]
    }
   ],
   "source": [
    "df = pd.DataFrame()\n",
    "#Pon tu código aquí: Para cargar los datos.\n",
    "#Sugerencias: cargamos el fichero 'data/cs_export.xls'.\n",
    "#Queremos un MultiIndex (fecha, territorio)\n",
    "#Hay una columna con fechas, con el formato dd-mm-yy.\n",
    "\n",
    "#\n",
    "\n",
    "\n",
    "#Pon tu código aquí.\n",
    "#El eje temporal (nivel 0 del multiindex) hay que ordenarlo desde la \n",
    "#   fecha más lejana a la más cercana.\n",
    "\n",
    "#\n",
    "\n",
    "print('DataFrame:')\n",
    "print(df.head())\n",
    "\n",
    "confirmados_andalucia = pd.Series()\n",
    "#Pon tu código aquí.\n",
    "#Sugerencia: necesitamos sólo los datos 'Confirmados PDIA' para 'Andalucía'\n",
    "\n",
    "#\n",
    "\n",
    "incidencia_acumulada = pd.Series()\n",
    "#Pon tu código aquí.\n",
    "#La incidencia acumulada es la media de una ventana movil con los últimos 14 días.\n",
    "#Recuerda rellenar los valores NAN con 0.\n",
    "\n",
    "#\n",
    "\n",
    "print('\\nConfirmados:\\n', confirmados_andalucia)\n",
    "print('\\nIncidencia accumulada:\\n', incidencia_acumulada)"
   ]
  },
  {
   "cell_type": "markdown",
   "metadata": {},
   "source": [
    "### Generación de la figura."
   ]
  },
  {
   "cell_type": "code",
   "execution_count": 3,
   "metadata": {},
   "outputs": [],
   "source": [
    "#Pon tu código aquí.\n",
    "#Recuerda:\n",
    "#   Se trata de un gráfico de línea.\n",
    "#   Establece un estilo general a ggplot \n",
    "#   El eje X es temporal.\n",
    "\n",
    "#"
   ]
  },
  {
   "cell_type": "code",
   "execution_count": null,
   "metadata": {},
   "outputs": [],
   "source": []
  }
 ],
 "metadata": {
  "kernelspec": {
   "display_name": "Python 3 (ipykernel)",
   "language": "python",
   "name": "python3"
  },
  "language_info": {
   "codemirror_mode": {
    "name": "ipython",
    "version": 3
   },
   "file_extension": ".py",
   "mimetype": "text/x-python",
   "name": "python",
   "nbconvert_exporter": "python",
   "pygments_lexer": "ipython3",
   "version": "3.8.10"
  }
 },
 "nbformat": 4,
 "nbformat_minor": 4
}
